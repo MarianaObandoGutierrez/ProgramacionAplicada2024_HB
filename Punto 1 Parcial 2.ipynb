{
  "nbformat": 4,
  "nbformat_minor": 0,
  "metadata": {
    "colab": {
      "provenance": [],
      "authorship_tag": "ABX9TyOLJ1UyaggVuAmzj3PRCzvh",
      "include_colab_link": true
    },
    "kernelspec": {
      "name": "python3",
      "display_name": "Python 3"
    },
    "language_info": {
      "name": "python"
    }
  },
  "cells": [
    {
      "cell_type": "markdown",
      "metadata": {
        "id": "view-in-github",
        "colab_type": "text"
      },
      "source": [
        "<a href=\"https://colab.research.google.com/github/MarianaObandoGutierrez/ProgramacionAplicada2024_HB/blob/main/Punto%201%20Parcial%202.ipynb\" target=\"_parent\"><img src=\"https://colab.research.google.com/assets/colab-badge.svg\" alt=\"Open In Colab\"/></a>"
      ]
    },
    {
      "cell_type": "markdown",
      "source": [
        "#Ejercicios parcial 2\n",
        "Mariana Obando Gutierrez\n",
        "20192005009\n",
        "\n",
        "1. Una vez ejecutado el siguiente codigo, el valor de x sera\n",
        "\n",
        "s = \"complicated\"\n",
        "\n",
        "g = [[0,1], [1,7], [10,11]]\n",
        "\n",
        "def f(x,y,z):\n",
        "\n",
        "   return x+y+z\n",
        "\n",
        "x = f (s[g[0][0]], s[g[1][1] : g[1][1]+3], \"r\")\n",
        "\n",
        "          x = c, ted, r  = ctedr"
      ],
      "metadata": {
        "id": "zpZnWCNa8k3r"
      }
    },
    {
      "cell_type": "markdown",
      "source": [
        "2. Una vez ejecutado el siguiente codigo, el valor de x sera\n",
        "\n",
        "d = {\"name\" : \"expectation\", \"type\" : 14, \"n\" : 8}\n",
        "\n",
        "z = 7\n",
        "\n",
        "s = \"before\"\n",
        "\n",
        "x = d[\"name\"][2 : -3] + str(d[\"type\"]) + str (d[\"n\"] + z)\n",
        "\n",
        "       x = pectat1415\n"
      ],
      "metadata": {
        "id": "bhYHQS-z-UvQ"
      }
    },
    {
      "cell_type": "markdown",
      "source": [
        "3. Una vez ejecutado, el valor de x sera\n",
        "\n",
        "d = {\"n\" : 0, \"p\" : 6, \"z\" : 3, \"r\" : 3, \"e\" : 2}\n",
        "\n",
        "s = \"never\"\n",
        "\n",
        "x = str(d[s[1]]) + s[d[s[0]] : d[s[4]]]\n",
        "\n",
        "        x = 2nev"
      ],
      "metadata": {
        "id": "6ZbrNE4o_clm"
      }
    },
    {
      "cell_type": "markdown",
      "source": [
        "4. Una vez ejecutado el siguiente codigo, el valor de x sera\n",
        "\n",
        "a = [[5, 6, 5], [1, 7, 3], [9, 4, 6]]\n",
        "\n",
        "b = [1, 0, 3, 2, 0, 4, 3, 3, 2, 4]\n",
        "\n",
        "c = 7\n",
        "\n",
        "x = a[b[1]][b[3]] * c + b[a[2][1]]\n",
        "   \n",
        "        x = 5*7 + 0 = 35"
      ],
      "metadata": {
        "id": "blUT4r7tATtW"
      }
    },
    {
      "cell_type": "markdown",
      "source": [
        "5. Una vez ejecutado el siguiente codigo, el valor de x sera\n",
        "\n",
        "a = 4\n",
        "\n",
        "b = 9\n",
        "\n",
        "c = 3\n",
        "\n",
        "x = str(a*b)*c\n",
        "\n",
        "      x = 363636\n"
      ],
      "metadata": {
        "id": "Wt9pnzxNBBuw"
      }
    },
    {
      "cell_type": "markdown",
      "source": [
        "6. Una vez ejecutado el siguiente codigo, el valor de x sera\n",
        "\n",
        "def f(a, b, c):\n",
        "\n",
        "  return a + c - b\n",
        "\n",
        "x = f (9, 4, 3) - f (4, 4, 3) + f (3, 5 6)\n",
        "\n",
        "     x = 9"
      ],
      "metadata": {
        "id": "zGK9rm9OBdD0"
      }
    },
    {
      "cell_type": "markdown",
      "source": [
        "7. Una vez ejecutado el siguiente codigo, el valor de x sera\n",
        "\n",
        "def f(pos, l):\n",
        "\n",
        "  return l[pos] + 3\n",
        "\n",
        "p = [4, 8, 2, 9]\n",
        "\n",
        "g = [4, 8, 0, 2, 2, 4, 3]\n",
        "\n",
        "a = 2\n",
        "\n",
        "x = f(2, p) + f(g[a], g)\n",
        "\n",
        "     x = 12"
      ],
      "metadata": {
        "id": "Bg46FiG4Cn_2"
      }
    },
    {
      "cell_type": "markdown",
      "source": [
        "8. Usando las funcionalidades del modulo pandas y asumiendo que la localizacion de un archivo denominado \"datos.csv\" se encuentra en la misma carpeta donde usted guardara un programa en phyton3, indique el respectivo codigo para generar un dataframe y visualizar en pantalla tan solo las primeras 10 filas del archivo mencionado.\n",
        "\n",
        "\n",
        "     import pandas as pd\n",
        "     def = pd.read_csv('datos.csv')\n",
        "\n",
        "     print(def.head(10))"
      ],
      "metadata": {
        "id": "M-zOGDtUDcNV"
      }
    },
    {
      "cell_type": "markdown",
      "source": [
        "9. Usando las funcionalidades del modulo pandas y asumiendo que la localizacion de un archivo denominado \"datos.xlsx\" se encuentra en la misma carpeta donde usted guardara un programa en phyton3, indique el respectivo codigo para generar un dataframe y visualizar en pantalla solo las 10 ultimas filas del archivo mencionado\n",
        "\n",
        "         import pandas as pd\n",
        "         def = pd.read_excel('datos.xlsx')\n",
        "   \n",
        "         print(df.tail(10))"
      ],
      "metadata": {
        "id": "6416qjZKEXDW"
      }
    },
    {
      "cell_type": "markdown",
      "source": [
        "10. Explique lo que se realiza en cada linea del siguiente codigo:\n",
        "\n",
        "          import pandas as pd\n",
        "          #Importa la libreria de panda\n",
        "\n",
        "          insta = pd.read_csv('/content/drive/MyDrive/udmy/dataAnalysis/Instagram.csv',\n",
        "          parse_dates = [\"reg date\", \"last login\"])\n",
        "          #Define un objeto llamado insta, usa un metodo de la libreria pandas para leer\n",
        "          un archivo de tipo CSV y define la ruta en donde esta ubicado el archivo dentro\n",
        "          de un drive, luego con el metodo parse_dates convierte a formato de fecha las\n",
        "          dos columnas que menciono.\n",
        "\n",
        "          insta[\"gender\"] = insta[\"gender\"].astype(\"category\")\n",
        "          #Convierte los datos de la columna gender a tipo categórico\n",
        "\n",
        "          insta[\"Country\"] = insta[\"Country\"].astype(\"category\")\n",
        "          #Convierte los datos de la columna Country a tipo categórico\n",
        "\n",
        "          insta[\"Influencer\"] = insta[\"Influencer\"].astype(\"bool\")\n",
        "          #Convierte los datos de la columna Influencer a tipo booleano\n",
        "\n",
        "          insta.head(7)\n",
        "          #Muestra las primeras 7 filas del archivo\n",
        "\n"
      ],
      "metadata": {
        "id": "0Vhi2JTeJ9JI"
      }
    },
    {
      "cell_type": "markdown",
      "source": [],
      "metadata": {
        "id": "Xgn8pgQEOaPO"
      }
    }
  ]
}