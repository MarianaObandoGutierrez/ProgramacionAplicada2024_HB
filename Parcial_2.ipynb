{
  "nbformat": 4,
  "nbformat_minor": 0,
  "metadata": {
    "colab": {
      "provenance": [],
      "authorship_tag": "ABX9TyOzUbKeXnDqaXFWTuS0E/WR",
      "include_colab_link": true
    },
    "kernelspec": {
      "name": "python3",
      "display_name": "Python 3"
    },
    "language_info": {
      "name": "python"
    }
  },
  "cells": [
    {
      "cell_type": "markdown",
      "metadata": {
        "id": "view-in-github",
        "colab_type": "text"
      },
      "source": [
        "<a href=\"https://colab.research.google.com/github/MarianaObandoGutierrez/ProgramacionAplicada2024_HB/blob/main/Parcial_2.ipynb\" target=\"_parent\"><img src=\"https://colab.research.google.com/assets/colab-badge.svg\" alt=\"Open In Colab\"/></a>"
      ]
    },
    {
      "cell_type": "markdown",
      "source": [
        "#Parcial 2\n",
        "##Mariana Obando Gutierrez\n",
        "20192005009"
      ],
      "metadata": {
        "id": "zkrGU7aT3FOm"
      }
    },
    {
      "cell_type": "code",
      "source": [
        "from google.colab import drive\n",
        "drive.mount('/content/drive')"
      ],
      "metadata": {
        "colab": {
          "base_uri": "https://localhost:8080/"
        },
        "id": "Po0Dri8M48wI",
        "outputId": "ca07fba9-8dcb-4a7d-e313-d52dcff53a4f"
      },
      "execution_count": 1,
      "outputs": [
        {
          "output_type": "stream",
          "name": "stdout",
          "text": [
            "Mounted at /content/drive\n"
          ]
        }
      ]
    },
    {
      "cell_type": "code",
      "source": [
        "#Punto 1\n",
        "#Subir el archivo a una variable llamada ventas\n",
        "\n",
        "import pandas as pd\n",
        "\n",
        "ventas = pd.read_csv('/content/ABC - Sales.csv')"
      ],
      "metadata": {
        "id": "kKfLJT8e5Zjn"
      },
      "execution_count": 5,
      "outputs": []
    },
    {
      "cell_type": "code",
      "source": [
        "#Punto 2\n",
        "#Mostrar las primeras 12 lineas del archivo\n",
        "\n",
        "print(ventas.head(12))"
      ],
      "metadata": {
        "colab": {
          "base_uri": "https://localhost:8080/"
        },
        "id": "6qMZ6QRi55Pz",
        "outputId": "86047ea6-2890-46c6-f8a0-f822c3be3721"
      },
      "execution_count": 6,
      "outputs": [
        {
          "output_type": "stream",
          "name": "stdout",
          "text": [
            "    sale_id  cust_id  prod_id     product  qty     store_location\n",
            "0       101       30        5      Heater    2      Fairview Mall\n",
            "1       102       20       14       Piano    2            Rotunda\n",
            "2       103       20       17   Microwave    1  Kessington Market\n",
            "3       104        5        3     Speaker    3      Fairview Mall\n",
            "4       105       10        4  Humidifier    1           Shoppers\n",
            "5       106       14        4  Humidifier    1           Shoppers\n",
            "6       107       28        2     Printer    3  Kessington Market\n",
            "7       108       27       14       Piano    2        Brisby Mall\n",
            "8       109        4        5      Heater    2        Brisby Mall\n",
            "9       110        8        3     Speaker    3           Shoppers\n",
            "10      111       30        4  Humidifier    2           Shoppers\n",
            "11      112        8       13  Microphone    2  Kessington Market\n"
          ]
        }
      ]
    },
    {
      "cell_type": "code",
      "source": [
        "#Punto 3\n",
        "#Mostrar las ultimas 15 filas\n",
        "\n",
        "print(ventas.tail(15))"
      ],
      "metadata": {
        "colab": {
          "base_uri": "https://localhost:8080/"
        },
        "id": "W9vZ1IG16ROd",
        "outputId": "e9be4403-9edf-40aa-b29d-fcf6a4ede718"
      },
      "execution_count": 7,
      "outputs": [
        {
          "output_type": "stream",
          "name": "stdout",
          "text": [
            "    sale_id  cust_id  prod_id     product  qty     store_location\n",
            "15      116        2        3     Speaker    2        Brisby Mall\n",
            "16      117       10        3     Speaker    3  Kessington Market\n",
            "17      118        8       17   Microwave    3           Shoppers\n",
            "18      119        5        5      Heater    2            Rotunda\n",
            "19      120       28        1   Headphone    1        Brisby Mall\n",
            "20      121        4        5      Heater    3           Shoppers\n",
            "21      122       24       16       Mixer    2        Brisby Mall\n",
            "22      123       10        1   Headphone    2  Kessington Market\n",
            "23      124       13       15      Tripod    1        Brisby Mall\n",
            "24      125       27       17   Microwave    3           Shoppers\n",
            "25      126        7        2     Printer    2  Kessington Market\n",
            "26      127       24       14       Piano    1  Kessington Market\n",
            "27      128       15       13  Microphone    1            Rotunda\n",
            "28      129       14       19       Dryer    1        Brisby Mall\n",
            "29      130       13       18      Washer    2           Shoppers\n"
          ]
        }
      ]
    },
    {
      "cell_type": "code",
      "source": [
        "#Revisar nombres de las columnas\n",
        "print(ventas.columns)"
      ],
      "metadata": {
        "colab": {
          "base_uri": "https://localhost:8080/"
        },
        "id": "kVoUXf-q8SYO",
        "outputId": "2371b5c4-88ba-431e-9fc2-bcf6d0f02860"
      },
      "execution_count": 13,
      "outputs": [
        {
          "output_type": "stream",
          "name": "stdout",
          "text": [
            "Index(['sale_id', 'cust_id', 'prod_id', 'product', 'qty', 'store_location'], dtype='object')\n"
          ]
        }
      ]
    },
    {
      "cell_type": "code",
      "source": [
        "#Punto 4\n",
        "#Variable Storeloc con la ubicacion de las tiendas\n",
        "\n",
        "StoreLoc = ventas['store_location']\n",
        "print(StoreLoc)\n"
      ],
      "metadata": {
        "colab": {
          "base_uri": "https://localhost:8080/"
        },
        "id": "4AyoNo0s6jU2",
        "outputId": "35761b0a-1d5d-4f38-9939-f8a2ec7a1161"
      },
      "execution_count": 11,
      "outputs": [
        {
          "output_type": "stream",
          "name": "stdout",
          "text": [
            "0         Fairview Mall\n",
            "1               Rotunda\n",
            "2     Kessington Market\n",
            "3         Fairview Mall\n",
            "4              Shoppers\n",
            "5              Shoppers\n",
            "6     Kessington Market\n",
            "7           Brisby Mall\n",
            "8           Brisby Mall\n",
            "9              Shoppers\n",
            "10             Shoppers\n",
            "11    Kessington Market\n",
            "12             Shoppers\n",
            "13              Rotunda\n",
            "14    Kessington Market\n",
            "15          Brisby Mall\n",
            "16    Kessington Market\n",
            "17             Shoppers\n",
            "18              Rotunda\n",
            "19          Brisby Mall\n",
            "20             Shoppers\n",
            "21          Brisby Mall\n",
            "22    Kessington Market\n",
            "23          Brisby Mall\n",
            "24             Shoppers\n",
            "25    Kessington Market\n",
            "26    Kessington Market\n",
            "27              Rotunda\n",
            "28          Brisby Mall\n",
            "29             Shoppers\n",
            "Name: store_location, dtype: object\n"
          ]
        }
      ]
    },
    {
      "cell_type": "code",
      "source": [
        "#Punto 5\n",
        "#Serie llamada IdComprador\n",
        "\n",
        "IdComprador = ventas['cust_id']\n",
        "print(IdComprador)"
      ],
      "metadata": {
        "colab": {
          "base_uri": "https://localhost:8080/"
        },
        "id": "YpwSRBmj8FLt",
        "outputId": "09831049-e794-487d-870f-b0eca2b42e8c"
      },
      "execution_count": 15,
      "outputs": [
        {
          "output_type": "stream",
          "name": "stdout",
          "text": [
            "0     30\n",
            "1     20\n",
            "2     20\n",
            "3      5\n",
            "4     10\n",
            "5     14\n",
            "6     28\n",
            "7     27\n",
            "8      4\n",
            "9      8\n",
            "10    30\n",
            "11     8\n",
            "12    13\n",
            "13    30\n",
            "14    20\n",
            "15     2\n",
            "16    10\n",
            "17     8\n",
            "18     5\n",
            "19    28\n",
            "20     4\n",
            "21    24\n",
            "22    10\n",
            "23    13\n",
            "24    27\n",
            "25     7\n",
            "26    24\n",
            "27    15\n",
            "28    14\n",
            "29    13\n",
            "Name: cust_id, dtype: int64\n"
          ]
        }
      ]
    },
    {
      "cell_type": "code",
      "source": [
        "#Punto 6\n",
        "#Serie llamada IdVenta\n",
        "\n",
        "IdVenta = ventas['sale_id']\n",
        "print(IdVenta)"
      ],
      "metadata": {
        "colab": {
          "base_uri": "https://localhost:8080/"
        },
        "id": "lcRDEtG78ev-",
        "outputId": "5040431d-2f71-482e-94c4-02d598b919cf"
      },
      "execution_count": 16,
      "outputs": [
        {
          "output_type": "stream",
          "name": "stdout",
          "text": [
            "0     101\n",
            "1     102\n",
            "2     103\n",
            "3     104\n",
            "4     105\n",
            "5     106\n",
            "6     107\n",
            "7     108\n",
            "8     109\n",
            "9     110\n",
            "10    111\n",
            "11    112\n",
            "12    113\n",
            "13    114\n",
            "14    115\n",
            "15    116\n",
            "16    117\n",
            "17    118\n",
            "18    119\n",
            "19    120\n",
            "20    121\n",
            "21    122\n",
            "22    123\n",
            "23    124\n",
            "24    125\n",
            "25    126\n",
            "26    127\n",
            "27    128\n",
            "28    129\n",
            "29    130\n",
            "Name: sale_id, dtype: int64\n"
          ]
        }
      ]
    },
    {
      "cell_type": "code",
      "source": [
        "#Punto 7\n",
        "#StoreLoc en orden descendente\n",
        "\n",
        "\n",
        "StoreLoc_des = StoreLoc.sort_values(ascending=False)\n",
        "\n",
        "print(StoreLoc_des)"
      ],
      "metadata": {
        "colab": {
          "base_uri": "https://localhost:8080/"
        },
        "id": "cdizMP8V84FX",
        "outputId": "c499f4bd-1bc1-457a-c89e-7650ec04c8bb"
      },
      "execution_count": 17,
      "outputs": [
        {
          "output_type": "stream",
          "name": "stdout",
          "text": [
            "29             Shoppers\n",
            "9              Shoppers\n",
            "24             Shoppers\n",
            "17             Shoppers\n",
            "12             Shoppers\n",
            "10             Shoppers\n",
            "5              Shoppers\n",
            "4              Shoppers\n",
            "20             Shoppers\n",
            "13              Rotunda\n",
            "1               Rotunda\n",
            "27              Rotunda\n",
            "18              Rotunda\n",
            "6     Kessington Market\n",
            "26    Kessington Market\n",
            "25    Kessington Market\n",
            "22    Kessington Market\n",
            "11    Kessington Market\n",
            "14    Kessington Market\n",
            "16    Kessington Market\n",
            "2     Kessington Market\n",
            "0         Fairview Mall\n",
            "3         Fairview Mall\n",
            "21          Brisby Mall\n",
            "23          Brisby Mall\n",
            "19          Brisby Mall\n",
            "8           Brisby Mall\n",
            "7           Brisby Mall\n",
            "28          Brisby Mall\n",
            "15          Brisby Mall\n",
            "Name: store_location, dtype: object\n"
          ]
        }
      ]
    },
    {
      "cell_type": "code",
      "source": [
        "#Punto 8\n",
        "#IdComprador en orden descendente\n",
        "\n",
        "\n",
        "IdComprador_des = IdComprador.sort_values(ascending=False)\n",
        "\n",
        "print(IdComprador_des)"
      ],
      "metadata": {
        "colab": {
          "base_uri": "https://localhost:8080/"
        },
        "id": "ntJYIjlz9LmO",
        "outputId": "89678835-e03c-4248-db3b-55171755b795"
      },
      "execution_count": 18,
      "outputs": [
        {
          "output_type": "stream",
          "name": "stdout",
          "text": [
            "0     30\n",
            "10    30\n",
            "13    30\n",
            "19    28\n",
            "6     28\n",
            "7     27\n",
            "24    27\n",
            "26    24\n",
            "21    24\n",
            "2     20\n",
            "14    20\n",
            "1     20\n",
            "27    15\n",
            "28    14\n",
            "5     14\n",
            "23    13\n",
            "29    13\n",
            "12    13\n",
            "16    10\n",
            "22    10\n",
            "4     10\n",
            "17     8\n",
            "11     8\n",
            "9      8\n",
            "25     7\n",
            "18     5\n",
            "3      5\n",
            "20     4\n",
            "8      4\n",
            "15     2\n",
            "Name: cust_id, dtype: int64\n"
          ]
        }
      ]
    },
    {
      "cell_type": "code",
      "source": [
        "#Punto 9\n",
        "#IdVenta en orden descendente\n",
        "\n",
        "\n",
        "IdVenta_des = IdVenta.sort_values(ascending=False)\n",
        "\n",
        "print(IdVenta_des)"
      ],
      "metadata": {
        "colab": {
          "base_uri": "https://localhost:8080/"
        },
        "id": "wN7gaOgj9V8u",
        "outputId": "17fb96ed-ff99-4f5e-a372-a8795ca39b20"
      },
      "execution_count": 20,
      "outputs": [
        {
          "output_type": "stream",
          "name": "stdout",
          "text": [
            "29    130\n",
            "28    129\n",
            "27    128\n",
            "26    127\n",
            "25    126\n",
            "24    125\n",
            "23    124\n",
            "22    123\n",
            "21    122\n",
            "20    121\n",
            "19    120\n",
            "18    119\n",
            "17    118\n",
            "16    117\n",
            "15    116\n",
            "14    115\n",
            "13    114\n",
            "12    113\n",
            "11    112\n",
            "10    111\n",
            "9     110\n",
            "8     109\n",
            "7     108\n",
            "6     107\n",
            "5     106\n",
            "4     105\n",
            "3     104\n",
            "2     103\n",
            "1     102\n",
            "0     101\n",
            "Name: sale_id, dtype: int64\n"
          ]
        }
      ]
    },
    {
      "cell_type": "code",
      "source": [
        "#Punto 10\n",
        "#Visualización de las columnas “producto, qty, store_location”.\n",
        "\n",
        "nombres_columnas = ['product', 'qty', 'store_location']\n",
        "columnas = ventas[nombres_columnas]\n",
        "\n",
        "print(columnas)"
      ],
      "metadata": {
        "colab": {
          "base_uri": "https://localhost:8080/"
        },
        "id": "QLM-h8_y9hjG",
        "outputId": "89ccd8d9-fb9e-4dcb-c151-431f0770fc63"
      },
      "execution_count": 27,
      "outputs": [
        {
          "output_type": "stream",
          "name": "stdout",
          "text": [
            "       product  qty     store_location\n",
            "0       Heater    2      Fairview Mall\n",
            "1        Piano    2            Rotunda\n",
            "2    Microwave    1  Kessington Market\n",
            "3      Speaker    3      Fairview Mall\n",
            "4   Humidifier    1           Shoppers\n",
            "5   Humidifier    1           Shoppers\n",
            "6      Printer    3  Kessington Market\n",
            "7        Piano    2        Brisby Mall\n",
            "8       Heater    2        Brisby Mall\n",
            "9      Speaker    3           Shoppers\n",
            "10  Humidifier    2           Shoppers\n",
            "11  Microphone    2  Kessington Market\n",
            "12      Heater    2           Shoppers\n",
            "13      Tripod    2            Rotunda\n",
            "14  Microphone    2  Kessington Market\n",
            "15     Speaker    2        Brisby Mall\n",
            "16     Speaker    3  Kessington Market\n",
            "17   Microwave    3           Shoppers\n",
            "18      Heater    2            Rotunda\n",
            "19   Headphone    1        Brisby Mall\n",
            "20      Heater    3           Shoppers\n",
            "21       Mixer    2        Brisby Mall\n",
            "22   Headphone    2  Kessington Market\n",
            "23      Tripod    1        Brisby Mall\n",
            "24   Microwave    3           Shoppers\n",
            "25     Printer    2  Kessington Market\n",
            "26       Piano    1  Kessington Market\n",
            "27  Microphone    1            Rotunda\n",
            "28       Dryer    1        Brisby Mall\n",
            "29      Washer    2           Shoppers\n"
          ]
        }
      ]
    },
    {
      "cell_type": "code",
      "source": [
        "#Punto 11\n",
        "#Nulos de cada item\n",
        "\n",
        "valores_nulos_por_columna = ventas.isnull().sum()\n",
        "\n",
        "print(valores_nulos_por_columna)"
      ],
      "metadata": {
        "colab": {
          "base_uri": "https://localhost:8080/"
        },
        "id": "fNELKIkG-aM_",
        "outputId": "e9415c1d-f647-40f1-d817-7fe0b5f83ec0"
      },
      "execution_count": 28,
      "outputs": [
        {
          "output_type": "stream",
          "name": "stdout",
          "text": [
            "sale_id           0\n",
            "cust_id           0\n",
            "prod_id           0\n",
            "product           0\n",
            "qty               0\n",
            "store_location    0\n",
            "dtype: int64\n"
          ]
        }
      ]
    },
    {
      "cell_type": "code",
      "source": [
        "#Punto 12\n",
        "#Numero de productos vendidos\n",
        "\n",
        "productos_vendidos = ventas.groupby('product')['qty'].sum()\n",
        "\n",
        "print(productos_vendidos)"
      ],
      "metadata": {
        "colab": {
          "base_uri": "https://localhost:8080/"
        },
        "id": "SW4wze-p-ms1",
        "outputId": "9024779f-749d-4b3a-fa2a-130dc9126da9"
      },
      "execution_count": 31,
      "outputs": [
        {
          "output_type": "stream",
          "name": "stdout",
          "text": [
            "product\n",
            "Dryer          1\n",
            "Headphone      3\n",
            "Heater        11\n",
            "Humidifier     4\n",
            "Microphone     5\n",
            "Microwave      7\n",
            "Mixer          2\n",
            "Piano          5\n",
            "Printer        5\n",
            "Speaker       11\n",
            "Tripod         3\n",
            "Washer         2\n",
            "Name: qty, dtype: int64\n"
          ]
        }
      ]
    },
    {
      "cell_type": "code",
      "source": [
        "#Punto 13\n",
        "#Ventas por id de producto\n",
        "\n",
        "productos_vendidos_por_id = ventas.groupby('prod_id')['qty'].sum()\n",
        "\n",
        "print(productos_vendidos_por_id)"
      ],
      "metadata": {
        "colab": {
          "base_uri": "https://localhost:8080/"
        },
        "id": "w_yQ6cr7-q9D",
        "outputId": "518c9967-85d3-4c6d-cc86-b119d931c90a"
      },
      "execution_count": 32,
      "outputs": [
        {
          "output_type": "stream",
          "name": "stdout",
          "text": [
            "prod_id\n",
            "1      3\n",
            "2      5\n",
            "3     11\n",
            "4      4\n",
            "5     11\n",
            "13     5\n",
            "14     5\n",
            "15     3\n",
            "16     2\n",
            "17     7\n",
            "18     2\n",
            "19     1\n",
            "Name: qty, dtype: int64\n"
          ]
        }
      ]
    },
    {
      "cell_type": "code",
      "source": [
        "#Punto 14\n",
        "#Organizacion de mayor a menor de acuerdo al prod_id\n",
        "\n",
        "ventas_ordenado_prod = ventas.sort_values(by='prod_id')\n",
        "\n",
        "print(ventas_ordenado_prod)"
      ],
      "metadata": {
        "colab": {
          "base_uri": "https://localhost:8080/"
        },
        "id": "UxKPpDoK_od8",
        "outputId": "bc716336-cf64-4c96-b948-38a3c9cb7191"
      },
      "execution_count": 34,
      "outputs": [
        {
          "output_type": "stream",
          "name": "stdout",
          "text": [
            "    sale_id  cust_id  prod_id     product  qty     store_location\n",
            "22      123       10        1   Headphone    2  Kessington Market\n",
            "19      120       28        1   Headphone    1        Brisby Mall\n",
            "25      126        7        2     Printer    2  Kessington Market\n",
            "6       107       28        2     Printer    3  Kessington Market\n",
            "16      117       10        3     Speaker    3  Kessington Market\n",
            "3       104        5        3     Speaker    3      Fairview Mall\n",
            "15      116        2        3     Speaker    2        Brisby Mall\n",
            "9       110        8        3     Speaker    3           Shoppers\n",
            "4       105       10        4  Humidifier    1           Shoppers\n",
            "5       106       14        4  Humidifier    1           Shoppers\n",
            "10      111       30        4  Humidifier    2           Shoppers\n",
            "18      119        5        5      Heater    2            Rotunda\n",
            "0       101       30        5      Heater    2      Fairview Mall\n",
            "20      121        4        5      Heater    3           Shoppers\n",
            "12      113       13        5      Heater    2           Shoppers\n",
            "8       109        4        5      Heater    2        Brisby Mall\n",
            "27      128       15       13  Microphone    1            Rotunda\n",
            "14      115       20       13  Microphone    2  Kessington Market\n",
            "11      112        8       13  Microphone    2  Kessington Market\n",
            "7       108       27       14       Piano    2        Brisby Mall\n",
            "26      127       24       14       Piano    1  Kessington Market\n",
            "1       102       20       14       Piano    2            Rotunda\n",
            "13      114       30       15      Tripod    2            Rotunda\n",
            "23      124       13       15      Tripod    1        Brisby Mall\n",
            "21      122       24       16       Mixer    2        Brisby Mall\n",
            "24      125       27       17   Microwave    3           Shoppers\n",
            "2       103       20       17   Microwave    1  Kessington Market\n",
            "17      118        8       17   Microwave    3           Shoppers\n",
            "29      130       13       18      Washer    2           Shoppers\n",
            "28      129       14       19       Dryer    1        Brisby Mall\n"
          ]
        }
      ]
    },
    {
      "cell_type": "code",
      "source": [
        "#Punto 15\n",
        "#Organizacion de mayor a menor de acuerdo al cust_id\n",
        "\n",
        "ventas_ordenado_cust = ventas.sort_values(by='cust_id')\n",
        "\n",
        "print(ventas_ordenado_cust)"
      ],
      "metadata": {
        "colab": {
          "base_uri": "https://localhost:8080/"
        },
        "id": "DFIiPUyW_9We",
        "outputId": "37f91d5a-121b-4593-9df8-b00c51590adb"
      },
      "execution_count": 35,
      "outputs": [
        {
          "output_type": "stream",
          "name": "stdout",
          "text": [
            "    sale_id  cust_id  prod_id     product  qty     store_location\n",
            "15      116        2        3     Speaker    2        Brisby Mall\n",
            "8       109        4        5      Heater    2        Brisby Mall\n",
            "20      121        4        5      Heater    3           Shoppers\n",
            "3       104        5        3     Speaker    3      Fairview Mall\n",
            "18      119        5        5      Heater    2            Rotunda\n",
            "25      126        7        2     Printer    2  Kessington Market\n",
            "11      112        8       13  Microphone    2  Kessington Market\n",
            "9       110        8        3     Speaker    3           Shoppers\n",
            "17      118        8       17   Microwave    3           Shoppers\n",
            "22      123       10        1   Headphone    2  Kessington Market\n",
            "4       105       10        4  Humidifier    1           Shoppers\n",
            "16      117       10        3     Speaker    3  Kessington Market\n",
            "23      124       13       15      Tripod    1        Brisby Mall\n",
            "12      113       13        5      Heater    2           Shoppers\n",
            "29      130       13       18      Washer    2           Shoppers\n",
            "5       106       14        4  Humidifier    1           Shoppers\n",
            "28      129       14       19       Dryer    1        Brisby Mall\n",
            "27      128       15       13  Microphone    1            Rotunda\n",
            "14      115       20       13  Microphone    2  Kessington Market\n",
            "2       103       20       17   Microwave    1  Kessington Market\n",
            "1       102       20       14       Piano    2            Rotunda\n",
            "21      122       24       16       Mixer    2        Brisby Mall\n",
            "26      127       24       14       Piano    1  Kessington Market\n",
            "7       108       27       14       Piano    2        Brisby Mall\n",
            "24      125       27       17   Microwave    3           Shoppers\n",
            "19      120       28        1   Headphone    1        Brisby Mall\n",
            "6       107       28        2     Printer    3  Kessington Market\n",
            "10      111       30        4  Humidifier    2           Shoppers\n",
            "13      114       30       15      Tripod    2            Rotunda\n",
            "0       101       30        5      Heater    2      Fairview Mall\n"
          ]
        }
      ]
    },
    {
      "cell_type": "code",
      "source": [
        "#Punto 16\n",
        "#Organizacion de menor a mayor con cust y prod\n",
        "\n",
        "ventas_ordenado = ventas.sort_values(by=['cust_id', 'prod_id'])\n",
        "\n",
        "print(ventas_ordenado)"
      ],
      "metadata": {
        "colab": {
          "base_uri": "https://localhost:8080/"
        },
        "id": "hgaxA__LATbC",
        "outputId": "0f319543-39f9-4b35-961d-54152732675d"
      },
      "execution_count": 36,
      "outputs": [
        {
          "output_type": "stream",
          "name": "stdout",
          "text": [
            "    sale_id  cust_id  prod_id     product  qty     store_location\n",
            "15      116        2        3     Speaker    2        Brisby Mall\n",
            "8       109        4        5      Heater    2        Brisby Mall\n",
            "20      121        4        5      Heater    3           Shoppers\n",
            "3       104        5        3     Speaker    3      Fairview Mall\n",
            "18      119        5        5      Heater    2            Rotunda\n",
            "25      126        7        2     Printer    2  Kessington Market\n",
            "9       110        8        3     Speaker    3           Shoppers\n",
            "11      112        8       13  Microphone    2  Kessington Market\n",
            "17      118        8       17   Microwave    3           Shoppers\n",
            "22      123       10        1   Headphone    2  Kessington Market\n",
            "16      117       10        3     Speaker    3  Kessington Market\n",
            "4       105       10        4  Humidifier    1           Shoppers\n",
            "12      113       13        5      Heater    2           Shoppers\n",
            "23      124       13       15      Tripod    1        Brisby Mall\n",
            "29      130       13       18      Washer    2           Shoppers\n",
            "5       106       14        4  Humidifier    1           Shoppers\n",
            "28      129       14       19       Dryer    1        Brisby Mall\n",
            "27      128       15       13  Microphone    1            Rotunda\n",
            "14      115       20       13  Microphone    2  Kessington Market\n",
            "1       102       20       14       Piano    2            Rotunda\n",
            "2       103       20       17   Microwave    1  Kessington Market\n",
            "26      127       24       14       Piano    1  Kessington Market\n",
            "21      122       24       16       Mixer    2        Brisby Mall\n",
            "7       108       27       14       Piano    2        Brisby Mall\n",
            "24      125       27       17   Microwave    3           Shoppers\n",
            "19      120       28        1   Headphone    1        Brisby Mall\n",
            "6       107       28        2     Printer    3  Kessington Market\n",
            "10      111       30        4  Humidifier    2           Shoppers\n",
            "0       101       30        5      Heater    2      Fairview Mall\n",
            "13      114       30       15      Tripod    2            Rotunda\n"
          ]
        }
      ]
    },
    {
      "cell_type": "code",
      "source": [
        "#Punto 17\n",
        "#Organizacion por indice en orden descendente\n",
        "\n",
        "ventas_des = ventas.sort_index(ascending=False)\n",
        "\n",
        "print(ventas_des)"
      ],
      "metadata": {
        "colab": {
          "base_uri": "https://localhost:8080/"
        },
        "id": "uIaxdKOvAeMb",
        "outputId": "fae1ef4d-e38c-4230-beb7-4c410787344a"
      },
      "execution_count": 37,
      "outputs": [
        {
          "output_type": "stream",
          "name": "stdout",
          "text": [
            "    sale_id  cust_id  prod_id     product  qty     store_location\n",
            "29      130       13       18      Washer    2           Shoppers\n",
            "28      129       14       19       Dryer    1        Brisby Mall\n",
            "27      128       15       13  Microphone    1            Rotunda\n",
            "26      127       24       14       Piano    1  Kessington Market\n",
            "25      126        7        2     Printer    2  Kessington Market\n",
            "24      125       27       17   Microwave    3           Shoppers\n",
            "23      124       13       15      Tripod    1        Brisby Mall\n",
            "22      123       10        1   Headphone    2  Kessington Market\n",
            "21      122       24       16       Mixer    2        Brisby Mall\n",
            "20      121        4        5      Heater    3           Shoppers\n",
            "19      120       28        1   Headphone    1        Brisby Mall\n",
            "18      119        5        5      Heater    2            Rotunda\n",
            "17      118        8       17   Microwave    3           Shoppers\n",
            "16      117       10        3     Speaker    3  Kessington Market\n",
            "15      116        2        3     Speaker    2        Brisby Mall\n",
            "14      115       20       13  Microphone    2  Kessington Market\n",
            "13      114       30       15      Tripod    2            Rotunda\n",
            "12      113       13        5      Heater    2           Shoppers\n",
            "11      112        8       13  Microphone    2  Kessington Market\n",
            "10      111       30        4  Humidifier    2           Shoppers\n",
            "9       110        8        3     Speaker    3           Shoppers\n",
            "8       109        4        5      Heater    2        Brisby Mall\n",
            "7       108       27       14       Piano    2        Brisby Mall\n",
            "6       107       28        2     Printer    3  Kessington Market\n",
            "5       106       14        4  Humidifier    1           Shoppers\n",
            "4       105       10        4  Humidifier    1           Shoppers\n",
            "3       104        5        3     Speaker    3      Fairview Mall\n",
            "2       103       20       17   Microwave    1  Kessington Market\n",
            "1       102       20       14       Piano    2            Rotunda\n",
            "0       101       30        5      Heater    2      Fairview Mall\n"
          ]
        }
      ]
    },
    {
      "cell_type": "code",
      "source": [
        "#Punto 18\n",
        "#Optimizar el dataframe\n",
        "\n",
        "#Para optimizar el datafram,e primero, vamos a convertir las columnas  de producto y locacion de tienda a tipo de dato categorico\n",
        "\n",
        "ventas['product'] = ventas['product'].astype('category')\n",
        "ventas['store_location'] = ventas['store_location'].astype('category')\n",
        "\n",
        "#Se crea la copia de venta optimizado\n",
        "ventas_optimizado = ventas.copy()\n",
        "\n",
        "print(ventas_optimizado)"
      ],
      "metadata": {
        "colab": {
          "base_uri": "https://localhost:8080/"
        },
        "id": "6T3NUIm2AtK1",
        "outputId": "fbe1bf0c-6071-437c-8a1d-e60e4a729dd0"
      },
      "execution_count": 39,
      "outputs": [
        {
          "output_type": "stream",
          "name": "stdout",
          "text": [
            "    sale_id  cust_id  prod_id     product  qty     store_location\n",
            "0       101       30        5      Heater    2      Fairview Mall\n",
            "1       102       20       14       Piano    2            Rotunda\n",
            "2       103       20       17   Microwave    1  Kessington Market\n",
            "3       104        5        3     Speaker    3      Fairview Mall\n",
            "4       105       10        4  Humidifier    1           Shoppers\n",
            "5       106       14        4  Humidifier    1           Shoppers\n",
            "6       107       28        2     Printer    3  Kessington Market\n",
            "7       108       27       14       Piano    2        Brisby Mall\n",
            "8       109        4        5      Heater    2        Brisby Mall\n",
            "9       110        8        3     Speaker    3           Shoppers\n",
            "10      111       30        4  Humidifier    2           Shoppers\n",
            "11      112        8       13  Microphone    2  Kessington Market\n",
            "12      113       13        5      Heater    2           Shoppers\n",
            "13      114       30       15      Tripod    2            Rotunda\n",
            "14      115       20       13  Microphone    2  Kessington Market\n",
            "15      116        2        3     Speaker    2        Brisby Mall\n",
            "16      117       10        3     Speaker    3  Kessington Market\n",
            "17      118        8       17   Microwave    3           Shoppers\n",
            "18      119        5        5      Heater    2            Rotunda\n",
            "19      120       28        1   Headphone    1        Brisby Mall\n",
            "20      121        4        5      Heater    3           Shoppers\n",
            "21      122       24       16       Mixer    2        Brisby Mall\n",
            "22      123       10        1   Headphone    2  Kessington Market\n",
            "23      124       13       15      Tripod    1        Brisby Mall\n",
            "24      125       27       17   Microwave    3           Shoppers\n",
            "25      126        7        2     Printer    2  Kessington Market\n",
            "26      127       24       14       Piano    1  Kessington Market\n",
            "27      128       15       13  Microphone    1            Rotunda\n",
            "28      129       14       19       Dryer    1        Brisby Mall\n",
            "29      130       13       18      Washer    2           Shoppers\n"
          ]
        }
      ]
    },
    {
      "cell_type": "code",
      "source": [
        "#Punto 19\n",
        "#Creacion de una serie desde una lista\n",
        "\n",
        "lista = [12, 28, 14, 4, 15, 18]\n",
        "serie = pd.Series(lista)\n",
        "\n",
        "print(serie)"
      ],
      "metadata": {
        "colab": {
          "base_uri": "https://localhost:8080/"
        },
        "id": "MzsZnoZNBofG",
        "outputId": "1bcb2b3d-3273-425e-8527-b4e09ace259f"
      },
      "execution_count": 43,
      "outputs": [
        {
          "output_type": "stream",
          "name": "stdout",
          "text": [
            "0    12\n",
            "1    28\n",
            "2    14\n",
            "3     4\n",
            "4    15\n",
            "5    18\n",
            "dtype: int64\n"
          ]
        }
      ]
    },
    {
      "cell_type": "code",
      "source": [
        "#Punto 20\n",
        "#Dataframe desde un diccionario\n",
        "\n",
        "datos = {\n",
        "    'Nombre': ['Juan', 'María', 'Pedro', 'Ana'],\n",
        "    'Edad': [25, 30, 35, 28],\n",
        "    'Nacionalidad': ['Colombia', 'Brasil', 'España', 'Venezuela']\n",
        "}\n",
        "Dataframe = pd.DataFrame(datos)\n",
        "\n",
        "print(Dataframe)"
      ],
      "metadata": {
        "colab": {
          "base_uri": "https://localhost:8080/"
        },
        "id": "ec8FKk93CBbk",
        "outputId": "11e0b807-c774-45d3-e849-6b000d97b3d8"
      },
      "execution_count": 45,
      "outputs": [
        {
          "output_type": "stream",
          "name": "stdout",
          "text": [
            "  Nombre  Edad Nacionalidad\n",
            "0   Juan    25     Colombia\n",
            "1  María    30       Brasil\n",
            "2  Pedro    35       España\n",
            "3    Ana    28    Venezuela\n"
          ]
        }
      ]
    }
  ]
}